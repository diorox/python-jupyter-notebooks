{
 "cells": [
  {
   "cell_type": "code",
   "execution_count": 1,
   "metadata": {
    "collapsed": false
   },
   "outputs": [],
   "source": [
    "import matplotlib.pyplot as plt"
   ]
  },
  {
   "cell_type": "raw",
   "metadata": {},
   "source": [
    "import math"
   ]
  },
  {
   "cell_type": "code",
   "execution_count": 2,
   "metadata": {
    "collapsed": false
   },
   "outputs": [],
   "source": [
    "import numpy\n",
    "from pylab import *"
   ]
  },
  {
   "cell_type": "code",
   "execution_count": 3,
   "metadata": {
    "collapsed": true
   },
   "outputs": [],
   "source": [
    "import math\n",
    "def make_logistic(r, a, b, c):\n",
    "    def f_logistic(t):\n",
    "        return a / (b + c * numpy.exp(-r * t))\n",
    "    return f_logistic"
   ]
  },
  {
   "cell_type": "code",
   "execution_count": 4,
   "metadata": {
    "collapsed": true
   },
   "outputs": [],
   "source": [
    "r = 0.15\n",
    "a = 20.0\n",
    "c = 15.0\n",
    "b1, b2, b3 = 2.0, 3.0, 4.0\n",
    "logistic1 = make_logistic(r, a, b1, c)\n",
    "logistic2 = make_logistic(r, a, b2, c)\n",
    "logistic3 = make_logistic(r, a, b3, c)"
   ]
  },
  {
   "cell_type": "code",
   "execution_count": 5,
   "metadata": {
    "collapsed": false
   },
   "outputs": [
    {
     "data": {
      "text/plain": [
       "[<matplotlib.lines.Line2D at 0x105debd68>]"
      ]
     },
     "execution_count": 5,
     "metadata": {},
     "output_type": "execute_result"
    }
   ],
   "source": [
    "tmax = 40\n",
    "tvalues = numpy.linspace(0, tmax, 300)\n",
    "plt.plot(tvalues, logistic1(tvalues)) \n",
    "plt.plot(tvalues, logistic2(tvalues)) \n",
    "plt.plot(tvalues, logistic3(tvalues))"
   ]
  },
  {
   "cell_type": "raw",
   "metadata": {
    "collapsed": true
   },
   "source": [
    "show()"
   ]
  },
  {
   "cell_type": "code",
   "execution_count": 6,
   "metadata": {
    "collapsed": true
   },
   "outputs": [],
   "source": [
    "plot(tvalues, logistic1(tvalues), \n",
    "     linewidth=1.5, color='Pink', linestyle='-') \n",
    "plot(tvalues, logistic2(tvalues), \n",
    "     linewidth=2.0, color='#8B0000', linestyle=':') \n",
    "plot(tvalues, logistic3(tvalues), \n",
    "     linewidth=3.5, color=(0.0, 0.0, 0.5), linestyle='--')\n",
    "axis([0, tmax, 0, 11.])\n",
    "None"
   ]
  },
  {
   "cell_type": "code",
   "execution_count": null,
   "metadata": {
    "collapsed": true
   },
   "outputs": [],
   "source": []
  }
 ],
 "metadata": {
  "kernelspec": {
   "display_name": "Python 3",
   "language": "python",
   "name": "python3"
  },
  "language_info": {
   "codemirror_mode": {
    "name": "ipython",
    "version": 3
   },
   "file_extension": ".py",
   "mimetype": "text/x-python",
   "name": "python",
   "nbconvert_exporter": "python",
   "pygments_lexer": "ipython3",
   "version": "3.5.1"
  }
 },
 "nbformat": 4,
 "nbformat_minor": 0
}
