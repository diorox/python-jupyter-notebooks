{
 "cells": [
  {
   "cell_type": "code",
   "execution_count": 1,
   "metadata": {
    "collapsed": false
   },
   "outputs": [
    {
     "name": "stdout",
     "output_type": "stream",
     "text": [
      "6 of Clubs\n",
      "King of Clubs\n",
      "Jack of Diamonds\n",
      "Jack of Spades\n",
      "5 of Clubs\n",
      "King of Hearts\n",
      "7 of Clubs\n",
      "10 of Clubs\n",
      "4 of Clubs\n",
      "10 of Spades\n",
      "9 of Spades\n",
      "4 of Spades\n",
      "2 of Clubs\n",
      "10 of Diamonds\n",
      "8 of Diamonds\n",
      "3 of Clubs\n",
      "3 of Diamonds\n",
      "3 of Spades\n",
      "Ace of Spades\n",
      "Ace of Clubs\n",
      "8 of Clubs\n",
      "Queen of Clubs\n",
      "5 of Spades\n",
      "7 of Hearts\n",
      "2 of Diamonds\n",
      "9 of Hearts\n",
      "5 of Hearts\n",
      "6 of Spades\n",
      "Jack of Hearts\n",
      "8 of Spades\n",
      "Queen of Hearts\n",
      "4 of Diamonds\n",
      "Queen of Diamonds\n",
      "6 of Hearts\n",
      "Ace of Hearts\n",
      "King of Diamonds\n",
      "10 of Hearts\n",
      "King of Spades\n",
      "6 of Diamonds\n",
      "Queen of Spades\n",
      "2 of Spades\n",
      "7 of Spades\n",
      "3 of Hearts\n",
      "5 of Diamonds\n",
      "8 of Hearts\n",
      "Jack of Clubs\n",
      "9 of Clubs\n",
      "7 of Diamonds\n",
      "4 of Hearts\n",
      "9 of Diamonds\n",
      "2 of Hearts\n",
      "Ace of Diamonds\n"
     ]
    }
   ],
   "source": [
<<<<<<< HEAD
    "from graphics import *\n",
    "win = GraphWin()"
=======
    "import random\n",
    "\n",
    "SUITS=[ \"Clubs\", \"Diamonds\", \"Hearts\", \"Spades\"]\n",
    "\n",
    "RANKS =[\"2\", \"3\", \"4\", \"5\", \"6\", \"7\", \"8\", \"9\", \"10\", \"Jack\", \"Queen\", \"King\", \"Ace\"]\n",
    "\n",
    "DECK = []\n",
    "SECONDDECK = []\n",
    "for suit in SUITS:\n",
    "    for rank in RANKS:\n",
    "        DECK.append(rank + ' of ' + suit)\n",
    "\n",
    "random.shuffle(DECK)\n",
    "\n",
    "for card in DECK:\n",
    "    print(card )\n"
>>>>>>> 44e289d51128085ad98e7515d4541ecd5a8a8f97
   ]
  },
  {
   "cell_type": "code",
   "execution_count": 3,
   "metadata": {
    "collapsed": false
   },
   "outputs": [],
   "source": [
    "pt = Point(100, 50)"
   ]
  },
  {
   "cell_type": "code",
   "execution_count": null,
   "metadata": {
    "collapsed": true
   },
   "outputs": [],
   "source": []
  }
 ],
 "metadata": {
  "kernelspec": {
   "display_name": "Python 3",
   "language": "python",
   "name": "python3"
  },
  "language_info": {
   "codemirror_mode": {
    "name": "ipython",
    "version": 3
   },
   "file_extension": ".py",
   "mimetype": "text/x-python",
   "name": "python",
   "nbconvert_exporter": "python",
   "pygments_lexer": "ipython3",
   "version": "3.5.1"
  }
 },
 "nbformat": 4,
 "nbformat_minor": 0
}
